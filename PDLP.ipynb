{
 "cells": [
  {
   "cell_type": "code",
   "execution_count": 10,
   "metadata": {},
   "outputs": [],
   "source": [
    "from scipy.sparse.linalg import splu, factorized\n",
    "from scipy.linalg import lu_factor, lu_solve\n",
    "import numpy as np\n",
    "np.set_printoptions(precision=4) # Print few decimal places\n",
    "np.set_printoptions(suppress=True) # Suppress scientific notation\n",
    "import cvxpy as cp\n",
    "import pandas as pd\n",
    "from numpy.linalg import cholesky as llt\n",
    "import matplotlib.pyplot as plt\n",
    "import scipy.stats as stats\n",
    "import time"
   ]
  },
  {
   "cell_type": "code",
   "execution_count": 11,
   "metadata": {},
   "outputs": [],
   "source": [
    "def generate_randn_data(m,n):\n",
    "    w = np.random.randn(n)\n",
    "    x = np.maximum(w, 0)\n",
    "    lambd = np.maximum(-w, 0)\n",
    "    A = np.random.randn(m,n)\n",
    "    nu = np.random.randn(m)\n",
    "    b = A @ x\n",
    "    \n",
    "    # TODO: Find expression for c s.t. (x,nu,lambda) is optimal\n",
    "    c = - A.T @ nu + lambd\n",
    "    return A, b, c, x, lambd, nu"
   ]
  },
  {
   "cell_type": "code",
   "execution_count": 12,
   "metadata": {},
   "outputs": [
    {
     "name": "stdout",
     "output_type": "stream",
     "text": [
      "optimal\n",
      "cvxpy value = 3.869686708161278\n",
      "actual value = 3.8696867081612805\n",
      "optimal\n",
      "cvxpy value = 3.869686708161278\n",
      "actual value = 3.8696867081612805\n"
     ]
    }
   ],
   "source": [
    "# NOTE\n",
    "# Test case and the formulation for the splitting\n",
    "n = 10\n",
    "m = 10\n",
    "A_, b_, c_, x_, lambd_, nu_ = generate_randn_data(m, n)\n",
    "u = np.random.uniform(np.max(x_), 5*np.max(x_), n) \n",
    "l = -u\n",
    "\n",
    "x_cvxpy = cp.Variable(x_.shape)\n",
    "objective = cp.Minimize(c_.T @ x_cvxpy)\n",
    "constraints = [A_ @ x_cvxpy == b_, x_cvxpy >= l, x_cvxpy <= u]\n",
    "problem = cp.Problem(objective, constraints)\n",
    "problem.solve()\n",
    "print(problem.status)\n",
    "print(\"cvxpy value =\", c_.T @ x_cvxpy.value)\n",
    "print(\"actual value =\", c_.T @ x_)\n",
    "\n",
    "\n",
    "x_cvxpy_u = cp.Variable(int(0.5*n))\n",
    "x_cvxpy_l = cp.Variable(n-int(0.5*n))\n",
    "objective = cp.Minimize(c_[:int(0.5*n)].T@x_cvxpy_u + c_[int(0.5*n):].T@x_cvxpy_l)\n",
    "constraints = [A_[:,:int(0.5*n)]@x_cvxpy_u + A_[:,int(0.5*n):]@x_cvxpy_l == b_,\n",
    "               x_cvxpy_u >= l[:int(0.5*n)], x_cvxpy_l >= l[int(0.5*n):],\n",
    "               x_cvxpy_u <= u[:int(0.5*n)], x_cvxpy_l <= u[int(0.5*n):]]\n",
    "problem = cp.Problem(objective, constraints)\n",
    "problem.solve()\n",
    "print(problem.status)\n",
    "print(\"cvxpy value =\", c_[:int(0.5*n)].T@x_cvxpy_u.value + c_[int(0.5*n):].T@x_cvxpy_l.value)\n",
    "print(\"actual value =\", c_.T @ x_)\n"
   ]
  },
  {
   "cell_type": "code",
   "execution_count": 13,
   "metadata": {},
   "outputs": [],
   "source": [
    "# NOTE\n",
    "# I implemented a rudementary version for simplicity and to first make sure that this worked\n",
    "\n",
    "def ADMM(c1, c2, U, V, q, u, l, xu, xv, y, nu):\n",
    "    var1 = cp.Variable(xu.shape[0])\n",
    "    constraint1 = [var1 <= u[:xu.shape[0]], l[:xu.shape[0]] <= var1]\n",
    "    prob_1 = cp.Problem(cp.Minimize(c1 @ var1 + (nu/2) * cp.sum_squares((U @ var1 + V @ xv - q) - (1/nu) * y)), constraint1)\n",
    "    prob_1.solve()\n",
    "    \n",
    "    xu_next = var1.value\n",
    "    \n",
    "    var_2 = cp.Variable(xv.shape[0])\n",
    "    constraint2 = [var_2 <= u[xv.shape[0]:], l[xv.shape[0]:] <= var_2]\n",
    "    prob_2 = cp.Problem(cp.Minimize(c2 @ xv + (nu/2) * cp.sum_squares((U @ xu_next + V @ var_2 - q) - (1/nu) * y)), constraint2)\n",
    "    prob_2.solve()\n",
    "    \n",
    "    xv_next = var_2.value\n",
    "    \n",
    "    y_next = y - nu * (U @ xu_next + V @ xv_next - q)\n",
    "    z_hat_next = [xu_next, xv_next, y - nu * (U @ xu_next + V @ xv - q)]\n",
    "    z_next = [xu_next, xv_next, y_next]\n",
    "    \n",
    "    return z_hat_next, z_next\n",
    "\n",
    "def KKT_error(nu, A, b, K, c, lam, lam_plus, lam_minus, q, l, u, x, y):\n",
    "    # positive = [max(x,0) for x in (h - G @ x)]\n",
    "    # matrix = np.vstack([A@x - b, positive])\n",
    "    \n",
    "    norm1 = np.linalg.norm(A@x - b, 2) ** 2\n",
    "    \n",
    "    norm2 = np.linalg.norm(c - K.T @ y - lam, 2) ** 2\n",
    "    \n",
    "    KKT = np.sqrt(nu**2 * norm1 + (1/(nu**2)) * norm2 + (q.T@y + l.T@lam_plus - u.T@lam_minus - c.T@x) ** 2)\n",
    "    \n",
    "    return KKT\n",
    "\n",
    "def lam_comp(A, y, xu, xv, u, l):\n",
    "    lam_pos = np.ones(xu.shape[0] + xv.shape[0])\n",
    "    lam_neg = np.ones(xu.shape[0] + xv.shape[0])\n",
    "    \n",
    "    for i in range(xu.shape[0]):\n",
    "        if not abs(xu[i] - l[i]) <= 1e-5:\n",
    "            lam_pos[i] = 0\n",
    "        if not abs(xu[i] - u[i]) <= 1e-5:\n",
    "            lam_neg[i] = 0\n",
    "\n",
    "    for i in range(xu.shape[0], lam_pos.shape[0]):\n",
    "        if not abs(xv[i-xu.shape[0]] - l[i]) <= 1e-5:\n",
    "            lam_pos[i] = 0\n",
    "        if not abs(xv[i-xu.shape[0]] - u[i]) <= 1e-5:\n",
    "            lam_neg[i] = 0\n",
    "            \n",
    "    for i in range(A.T.shape[0]):\n",
    "        if lam_pos[i] != 0:\n",
    "            lam_pos[i] = -(A.T @ y)[i]\n",
    "        elif lam_neg[i] != 0:\n",
    "            lam_neg[i] = (A.T @ y)[i] \n",
    "\n",
    "    lam = np.vstack([lam_pos, lam_neg])\n",
    "    \n",
    "    return lam"
   ]
  },
  {
   "cell_type": "code",
   "execution_count": 23,
   "metadata": {},
   "outputs": [
    {
     "name": "stdout",
     "output_type": "stream",
     "text": [
      "Did cvxpy converge = optimal\n",
      "cvxpy value = -305.46254458881356\n",
      "actual value = -305.4625445888135\n",
      "For f = 1 we go over 100 iterations\n",
      "count = 113\n",
      "ADMM with restarts value = -305.4625445888131\n"
     ]
    }
   ],
   "source": [
    "# NOTE\n",
    "# ADMM + Restarts\n",
    "\n",
    "np.random.seed(142)\n",
    "\n",
    "n = 100\n",
    "m = 5 * n\n",
    "# m = n\n",
    "A, b, c, x_, lambd, nu = generate_randn_data(m, n)\n",
    "u = np.random.uniform(np.max(x_), 5*np.max(x_), n) \n",
    "l = -u\n",
    "\n",
    "c1 = c[:int(0.5*n)]\n",
    "c2 = c[int(0.5*n):]\n",
    "U = A[:,:int(0.5*n)]\n",
    "V = A[:,int(0.5*n):]\n",
    "q = b\n",
    "xu = np.zeros(int(0.5*n))\n",
    "xv = np.zeros(n - int(0.5*n))\n",
    "y = np.zeros(A.shape[0])\n",
    "# NOTE Not sure if nu is the right value, just choose an argibrary one\n",
    "nu = 0.3\n",
    "\n",
    "z = np.zeros(500, dtype=object)\n",
    "z_bar = 0\n",
    "\n",
    "K = np.hstack([U, V])\n",
    "A = np.hstack([U, V])\n",
    "x = np.hstack([xu, xv])\n",
    "c = np.hstack([c1, c2])\n",
    "\n",
    "value_ADMM_restarts = np.zeros(500)\n",
    "\n",
    "lam = lam_comp(A, y, xu, xv, u, l)\n",
    "lam_plus = lam[0]\n",
    "lam_minus = lam[1]\n",
    "\n",
    "x_cvxpy_u = cp.Variable(int(0.5*n))\n",
    "x_cvxpy_l = cp.Variable(n-int(0.5*n))\n",
    "objective = cp.Minimize(c1.T@x_cvxpy_u + c2.T@x_cvxpy_l)\n",
    "constraints = [U@x_cvxpy_u + V@x_cvxpy_l == b,\n",
    "               x_cvxpy_u >= l[:int(0.5*n)], x_cvxpy_l >= l[int(0.5*n):],\n",
    "               x_cvxpy_u <= u[:int(0.5*n)], x_cvxpy_l <= u[int(0.5*n):]]\n",
    "problem = cp.Problem(objective, constraints)\n",
    "problem.solve()\n",
    "print(\"Did cvxpy converge =\", problem.status)\n",
    "print(\"cvxpy value =\", c1.T@x_cvxpy_u.value + c2.T@x_cvxpy_l.value)\n",
    "print(\"actual value =\", c.T @ x_)\n",
    "\n",
    "\n",
    "KKT_prev = np.zeros(20, dtype=object)\n",
    "# KKT = np.zeros((100,20), dtype=object)\n",
    "\n",
    "\n",
    "KKT = KKT_error(nu, A, q, K, c, lam, lam_plus, lam_minus, q, l, u, x, y)\n",
    "KKT_prev[0] = KKT_prev[1] = -np.inf\n",
    "KKT_n = -np.inf\n",
    "\n",
    "for f in range(1,2):\n",
    "    count = 0\n",
    "    xu = np.zeros(int(0.5*n))\n",
    "    xv = np.zeros(n - int(0.5*n))\n",
    "    y = np.zeros(A.shape[0])\n",
    "    for i in range(100):\n",
    "        z[i] = z_bar\n",
    "        xu_bar = 0\n",
    "        xv_bar = 0\n",
    "        y_bar = 0\n",
    "        t = 0\n",
    "        # print(\"i\", i)\n",
    "        \n",
    "        while not ((KKT <= 0.8 * KKT_n and KKT > KKT_prev[0]) or (KKT <= 0.2 * KKT_n) or (t >= max(0.36 * count,1))):\n",
    "        # for g in range(f):\n",
    "            z_hat, z_admm = ADMM(c1, c2, U, V, q, u, l, xu, xv, y, nu)\n",
    "            xu = z_admm[0]\n",
    "            xv = z_admm[1]\n",
    "            y = z_admm[2]\n",
    "            # print(\"t\", t)\n",
    "            value_ADMM_restarts[count] = abs(c1.T @ xu + c2.T @ xv - problem.value)\n",
    "            diff = abs(c1.T @ xu + c2.T @ xv - problem.value)\n",
    "            \n",
    "            xu_bar = (t/(1+t)) * xu_bar + (1/(1+t)) * z_hat[0]\n",
    "            xv_bar = (t/(1+t)) * xv_bar + (1/(1+t)) * z_hat[1]\n",
    "            y_bar = (t/(1+t)) * y_bar + (1/(1+t)) * z_hat[2]\n",
    "            \n",
    "            K = np.hstack([U, V])\n",
    "            A = np.hstack([U, V])\n",
    "            x = np.hstack([xu, xv])\n",
    "            c = np.hstack([c1, c2])\n",
    "            \n",
    "            lam = lam_comp(A, y, xu, xv, u, l)\n",
    "            lam_plus = lam[0]\n",
    "            lam_minus = lam[1]\n",
    "            lam_KKT = - lam_plus + lam_minus\n",
    "            KKT = KKT_error(nu, A, q, K, c, lam_KKT, lam_plus, lam_minus, q, l, u, x, y)\n",
    "            KKT_prev[0] = KKT_prev[1]\n",
    "            KKT_prev[1] = KKT\n",
    "            t += 1\n",
    "            count += 1\n",
    "            # if (value_ADMM_restarts[count] <= 1e-13):\n",
    "            if (diff <= 1e-13):\n",
    "                # print(\"stoped iterations at index =\", i)\n",
    "                break\n",
    "        # if value_ADMM_restarts[count] <= 1e-13:\n",
    "        if diff <= 1e-13:\n",
    "            print(\"stoped iterations at index =\", i)\n",
    "            print(\"count =\", count)\n",
    "            print(\"f =\", f)\n",
    "            break\n",
    "        if count >= 100:\n",
    "            print(\"For f =\", f, \"we go over 100 iterations\")\n",
    "            break\n",
    "        \n",
    "        KKT_n = KKT\n",
    "        xu = xu_bar\n",
    "        xv = xv_bar\n",
    "        y = y_bar\n",
    "        z_bar = [xu, xv, y]\n",
    "\n",
    "print(\"count =\", count)\n",
    "print(\"ADMM with restarts value =\", c1.T @ xu + c2.T @ xv)"
   ]
  },
  {
   "cell_type": "code",
   "execution_count": 15,
   "metadata": {},
   "outputs": [
    {
     "data": {
      "text/plain": [
       "<matplotlib.legend.Legend at 0x2b866ecec60>"
      ]
     },
     "execution_count": 15,
     "metadata": {},
     "output_type": "execute_result"
    },
    {
     "data": {
      "image/png": "[encoded data removed]",
      "text/plain": [
       "<Figure size 640x480 with 1 Axes>"
      ]
     },
     "metadata": {},
     "output_type": "display_data"
    }
   ],
   "source": [
    "plt.plot(value_ADMM_restarts[:100], label='ADMM + Restarts')\n",
    "plt.yscale('log')\n",
    "plt.ylabel('ADMM value - optimal')\n",
    "plt.xlabel('Iteration')\n",
    "plt.legend()"
   ]
  },
  {
   "cell_type": "code",
   "execution_count": 16,
   "metadata": {},
   "outputs": [
    {
     "name": "stdout",
     "output_type": "stream",
     "text": [
      "Did cvxpy converge = optimal\n",
      "cvxpy value = -305.46254458881356\n",
      "actual value = -305.4625445888135\n",
      "stoped iterations at index = 62\n",
      "ADMM value = -305.46254458881356\n"
     ]
    }
   ],
   "source": [
    "# NOTE\n",
    "# ADMM\n",
    "\n",
    "\n",
    "np.random.seed(142)\n",
    "\n",
    "n = 100\n",
    "m = 5 * n\n",
    "A, b, c, x, lambd, nu = generate_randn_data(m, n)\n",
    "u = np.random.uniform(np.max(x), 5*np.max(x), n) \n",
    "l = -u\n",
    "\n",
    "c1 = c[:int(0.5*n)]\n",
    "c2 = c[int(0.5*n):]\n",
    "U = A[:,:int(0.5*n)]\n",
    "V = A[:,int(0.5*n):]\n",
    "q = b\n",
    "xu = np.zeros(int(0.5*n))\n",
    "xv = np.zeros(n - int(0.5*n))\n",
    "y = np.zeros(A.shape[0])\n",
    "# NOTE Not sure if nu is the right value, just choose an argibrary one\n",
    "nu = 0.3\n",
    "\n",
    "x_cvxpy_u = cp.Variable(int(0.5*n))\n",
    "x_cvxpy_l = cp.Variable(n-int(0.5*n))\n",
    "objective = cp.Minimize(c1.T@x_cvxpy_u + c2.T@x_cvxpy_l)\n",
    "constraints = [U@x_cvxpy_u + V@x_cvxpy_l == b,\n",
    "               x_cvxpy_u >= l[:int(0.5*n)], x_cvxpy_l >= l[int(0.5*n):],\n",
    "               x_cvxpy_u <= u[:int(0.5*n)], x_cvxpy_l <= u[int(0.5*n):]]\n",
    "problem = cp.Problem(objective, constraints)\n",
    "problem.solve()\n",
    "print(\"Did cvxpy converge =\", problem.status)\n",
    "print(\"cvxpy value =\", c1.T@x_cvxpy_u.value + c2.T@x_cvxpy_l.value)\n",
    "print(\"actual value =\", c.T @ x)\n",
    "\n",
    "\n",
    "value_ADMM = np.zeros(500)\n",
    "\n",
    "for i in range(500):\n",
    "    z_hat, z = ADMM(c1, c2, U, V, q, u, l, xu, xv, y, nu)\n",
    "    xu = z[0]\n",
    "    xv = z[1]\n",
    "    y = z[2]\n",
    "    value_ADMM[i] = abs(c1.T @ xu + c2.T @ xv - problem.value)\n",
    "    if value_ADMM[i] <= 1e-13:\n",
    "        print(\"stoped iterations at index =\", i)\n",
    "        break\n",
    "print(\"ADMM value =\", c1.T @ xu + c2.T @ xv)"
   ]
  },
  {
   "cell_type": "code",
   "execution_count": 17,
   "metadata": {},
   "outputs": [
    {
     "data": {
      "text/plain": [
       "<matplotlib.legend.Legend at 0x2b86722bce0>"
      ]
     },
     "execution_count": 17,
     "metadata": {},
     "output_type": "execute_result"
    },
    {
     "data": {
      "image/png": "[encoded data removed]",
      "text/plain": [
       "<Figure size 640x480 with 1 Axes>"
      ]
     },
     "metadata": {},
     "output_type": "display_data"
    }
   ],
   "source": [
    "\n",
    "plt.plot(value_ADMM[:100], label='ADMM')\n",
    "plt.yscale('log')\n",
    "plt.ylabel('ADMM value - optimal')\n",
    "plt.xlabel('Iteration')\n",
    "plt.legend()\n",
    "# plt.ylim(10**-10, 1)"
   ]
  },
  {
   "cell_type": "code",
   "execution_count": null,
   "metadata": {},
   "outputs": [],
   "source": []
  }
 ],
 "metadata": {
  "kernelspec": {
   "display_name": "Python 3",
   "language": "python",
   "name": "python3"
  },
  "language_info": {
   "codemirror_mode": {
    "name": "ipython",
    "version": 3
   },
   "file_extension": ".py",
   "mimetype": "text/x-python",
   "name": "python",
   "nbconvert_exporter": "python",
   "pygments_lexer": "ipython3",
   "version": "3.12.7"
  }
 },
 "nbformat": 4,
 "nbformat_minor": 2
}
